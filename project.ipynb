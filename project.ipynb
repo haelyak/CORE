{
  "cells": [
    {
      "cell_type": "markdown",
      "metadata": {
        "toc": true,
        "id": "Cqbe1RWrEVqR"
      },
      "source": [
        "<h1>Table of Contents<span class=\"tocSkip\"></span></h1>\n",
        "<div class=\"toc\"><ul class=\"toc-item\"><li><span><a href=\"#Section-1:-Getting-Started\" data-toc-modified-id=\"Section-1:-Getting-Started-1\"><span class=\"toc-item-num\">1&nbsp;&nbsp;</span>Section 1: Getting Started</a></span><ul class=\"toc-item\"><li><span><a href=\"#Setting-up-your-repository\" data-toc-modified-id=\"Setting-up-your-repository-1.1\"><span class=\"toc-item-num\">1.1&nbsp;&nbsp;</span>Setting up your repository</a></span></li><li><span><a href=\"#Setting-up-Jupyter-Notebook\" data-toc-modified-id=\"Setting-up-Jupyter-Notebook-1.2\"><span class=\"toc-item-num\">1.2&nbsp;&nbsp;</span>Setting up Jupyter Notebook</a></span></li><li><span><a href=\"#Opening-the-notebook\" data-toc-modified-id=\"Opening-the-notebook-1.3\"><span class=\"toc-item-num\">1.3&nbsp;&nbsp;</span>Opening the notebook</a></span></li></ul></li></ul></div>"
      ]
    },
    {
      "cell_type": "markdown",
      "metadata": {
        "id": "8E-NOOltEVqU"
      },
      "source": [
        "PROJECT NAME\n",
        "\n",
        "**Team**: Name 1, Name 2, Name 3\n",
        "\n",
        "**Summary**: Here's some text describing your project's key goal and motivation of your project. This can be a few sentences.\n",
        "\n",
        "**Audience**: Individuals with basic Python knowledge looking to try small-scale text classification on their own.\n",
        "\n",
        "**Libraries used**: List libraries here.\n",
        "\n",
        "**Vocabulary**: List key concepts that will be defined/explained in your tutorial."
      ]
    },
    {
      "cell_type": "markdown",
      "metadata": {
        "id": "VrxOKLw-EVqV"
      },
      "source": [
        "# Section 1: Getting Started\n",
        "\n",
        "Your tutorial should alternate between text explaining higher-level detail and narrated code excerpts that users can interact with and run. Most likely, you're going to want your first section to narrate a bit about your goals, and, if needed, import some data. Here, I'm going to illustrate how this might look by using some description of how to get your Jupyter Notebook environment up and running.\n",
        "\n",
        "## Setting up your repository\n",
        "\n",
        "*If you've taken CS 70, you're probably familiar with some of these instructions; feel free to skim ahead or do what works for you.*\n",
        "\n",
        "To get started, your team will want its own repository. You'll need Git installed on your computer to work with this, as well as a GitHub account. If you haven't set up Git on your computer before, you can [follow these instructions](https://docs.github.com/en/get-started/quickstart/set-up-git) to get things installed. These instructions include setting up a way to verify credentials (that is, to help your computer access your GitHub repositories by linking to your account). You're welcome to do this using either the HTTPS or SSH recommendations; I've found the SSH option easier to maintain.\n",
        "\n",
        "First, make sure you get all of your team members' GitHub usernames; then, create a repository for your team using the GitHub Classroom link [here](https://classroom.github.com/a/sYhLcnVM). This will clone a repository with a few starting files:\n",
        "\n",
        "* a `README` Markdown file where you can keep notes about how to get your project running,\n",
        "* this Jupyter Notebook (as `project.ipynb`),\n",
        "* a sample data file `test.txt` (which you can delete when you no longer wish to use it), and\n",
        "* a hidden file called `.gitignore`. This provides a list of regular expressions of files that git will ignore by default instead of trying to commit. If your tutorial generates a large file that you don't want committed, it may be useful to add the path to that file to this list.\n",
        "\n",
        "Once this is installed, you should use the instructions to actually [clone your repository](https://docs.github.com/en/repositories/creating-and-managing-repositories/cloning-a-repository) on your local computer. This will give you a locally editable copy of the code that you can change and synchronize with the online copy your team will use. Find a folder where it can live for a while, as this repository will be used for the remainder of the semester.\n",
        "\n",
        "**If you prefer to edit using Visual Studio Code**, it should be able to support Jupyter Notebook editing and operations for git. Make sure that you have the extensions for Git set up so you can commit as you make changes. Eventually, we will be using the command line operations for Git in this class, but if you have another workflow that's working for now, feel free to stick to that."
      ]
    },
    {
      "cell_type": "markdown",
      "metadata": {
        "id": "zNBQCRSXEVqW"
      },
      "source": [
        "## Setting up Jupyter Notebook\n",
        "\n",
        "If you've already installed Anaconda or Python + Jupyter Notebook some other way on your computer, you're good to go! But if you haven't, then now is the time.\n",
        "\n",
        "The easiest way to get everything running at once if you're starting from scratch is to install [Anaconda](https://www.anaconda.com/products/distribution), which is a Python distribution that comes pre-packaged with a lot of standard scientific/data oriented open-source libraries as well as tools like Jupyter Notebooks and the `conda` package management system. You can use the [website download link](https://www.anaconda.com/products/distribution), making sure you add Anaconda to your PATH variable. If there are extra challenges, it may be worth consulting the [detailed installation instructions](https://docs.anaconda.com/anaconda/install/).\n",
        "\n",
        "If you'd rather not install all of these packages at once but you still need to install Python, you can also use [miniconda](https://docs.conda.io/en/latest/miniconda.html), a lighter-weight option, or just [install Python directly](https://www.python.org/downloads/). In either case, you'll also need to [install Jupyter Notebook](https://docs.jupyter.org/en/latest/install/notebook-classic.html#alternative-for-experienced-python-users-installing-jupyter-with-pip) afterwards."
      ]
    },
    {
      "cell_type": "markdown",
      "metadata": {
        "id": "KkF-Xg3dEVqW"
      },
      "source": [
        "## Opening the notebook\n",
        "\n",
        "Once you have your repository cloned to your computer and Jupyter Notebook installed, all you should need to do to open the notebook is to run\n",
        "\n",
        "`jupyter notebook`\n",
        "\n",
        "in the command line. This should kick off a process that prints a link to a Jupyter Notebook server running locally on your computer (e.g. `http://localhost:8888/?token=blahblahblahblah`). If you open that link in your browser, you should see something like this:\n",
        "\n",
        "![image.png](attachment:image.png)\n",
        "\n",
        "You can click on the project.ipynb notebook icon to open a new window with this notebook, which will give you editable control of the notebook.\n",
        "* To run a code cell, you can type `Shift+Enter`.\n",
        "* To change cells from being code to being Markdown (formatted text), use the drop-down menu below the Navigate menu.\n",
        "![image-2.png](attachment:image-2.png)\n",
        "* Make sure to save (`Ctrl+S`) regularly as you work.\n",
        "\n",
        "Here's some code you can try running to get started:"
      ]
    },
    {
      "cell_type": "code",
      "execution_count": null,
      "metadata": {
        "id": "ILYUu2FHEVqW",
        "outputId": "60049685-5d19-417b-a2dd-e35268c4c078"
      },
      "outputs": [
        {
          "data": {
            "image/png": "[encoded data removed]",
            "text/plain": [
              "<Figure size 432x288 with 1 Axes>"
            ]
          },
          "metadata": {
            "needs_background": "light"
          },
          "output_type": "display_data"
        }
      ],
      "source": [
        "# this line helps us render plots inside our notebook\n",
        "%matplotlib inline\n",
        "\n",
        "# imports\n",
        "import random\n",
        "from matplotlib import pyplot as plt\n",
        "import matplotlib.cm as cm\n",
        "\n",
        "# generate a 25 x 25 heatmap of random numbers\n",
        "dim = 25\n",
        "data = [[random.uniform(0, 5) for i in range(dim)] for j in range(dim)]\n",
        "\n",
        "# using Matplotlib documentation:\n",
        "# https://matplotlib.org/stable/gallery/images_contours_and_fields/image_annotated_heatmap.html\n",
        "\n",
        "fig, ax = plt.subplots()\n",
        "im = ax.imshow(data, cmap=cm.tab20)"
      ]
    },
    {
      "cell_type": "markdown",
      "metadata": {
        "id": "jd6nKmBnEVqY"
      },
      "source": [
        "If all goes well, you should now see a square plot of brightly-colored squares!"
      ]
    },
    {
      "cell_type": "code",
      "execution_count": null,
      "metadata": {
        "id": "pRZoyJ6oEVqY"
      },
      "outputs": [],
      "source": []
    }
  ],
  "metadata": {
    "kernelspec": {
      "display_name": "Python 3",
      "language": "python",
      "name": "python3"
    },
    "language_info": {
      "codemirror_mode": {
        "name": "ipython",
        "version": 3
      },
      "file_extension": ".py",
      "mimetype": "text/x-python",
      "name": "python",
      "nbconvert_exporter": "python",
      "pygments_lexer": "ipython3",
      "version": "3.8.5"
    },
    "toc": {
      "base_numbering": 1,
      "nav_menu": {},
      "number_sections": true,
      "sideBar": true,
      "skip_h1_title": false,
      "title_cell": "Table of Contents",
      "title_sidebar": "Contents",
      "toc_cell": true,
      "toc_position": {},
      "toc_section_display": true,
      "toc_window_display": false
    },
    "colab": {
      "provenance": []
    }
  },
  "nbformat": 4,
  "nbformat_minor": 0
}